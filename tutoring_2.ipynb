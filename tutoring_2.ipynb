{
 "cells": [
  {
   "cell_type": "code",
   "execution_count": 2,
   "metadata": {},
   "outputs": [],
   "source": [
    "#  라이브러리 로드 \n",
    "import pandas as pd\n",
    "import numpy as np\n",
    "import matplotlib.pyplot as plt\n",
    "import seaborn as sns\n",
    "\n",
    "# 데이터 로드 \n",
    "train = pd.read_csv(\"./data/train.csv\")"
   ]
  },
  {
   "cell_type": "code",
   "execution_count": 3,
   "metadata": {},
   "outputs": [],
   "source": [
    "train.dropna(axis=0, inplace=True)"
   ]
  },
  {
   "cell_type": "code",
   "execution_count": 4,
   "metadata": {},
   "outputs": [
    {
     "data": {
      "text/plain": [
       "0"
      ]
     },
     "execution_count": 4,
     "metadata": {},
     "output_type": "execute_result"
    }
   ],
   "source": [
    "train.isna().sum().sum()"
   ]
  },
  {
   "attachments": {},
   "cell_type": "markdown",
   "metadata": {},
   "source": [
    "- PassengerId : 탑승객의 고유 아이디\n",
    "- Survival : 생존여부(0: 사망, 1: 생존)\n",
    "- Pclass : 등실의 등급(1: 1등급, 2: 2등급, 3: 3등급)\n",
    "- Name : 이름\n",
    "- Sex : 성별\n",
    "- Age : 나이\n",
    "- Sibsp : 함께 탑승한 형제자매, 아내 남편의 수\n",
    "- Parch: 함께 탑승한 부모, 자식의 수\n",
    "- Ticket: 티켓번호\n",
    "- Fare: 티켓의 요금\n",
    "- Cabin: 객실번호\n",
    "- Embarked: 배에 탑승한 위치(C = Cherbourg, Q = Queenstown, S = Southampton)"
   ]
  },
  {
   "attachments": {},
   "cell_type": "markdown",
   "metadata": {},
   "source": [
    "# EDA & 데이터 전처리\n",
    "\n",
    "- 데이터 확인 \n",
    "- 기술통계 확인 \n",
    "- 결측치 확인 & 처리\n",
    "- 무한대 값, 중복된는 값 확인 & 처리 \n",
    "- 이상치 확인 & 처리\n",
    "- 변수간 상관관계 분석\n",
    "- 데이터 스케일링\n",
    "---"
   ]
  },
  {
   "attachments": {},
   "cell_type": "markdown",
   "metadata": {},
   "source": [
    "## 데이터 확인\n",
    "\n",
    "    데이터 행 열 수 확인 \n",
    "    df.shape\n",
    "\n",
    "    데이터 컬럼명 확인\n",
    "    df.columns\n",
    "\n",
    "    데이터 컬럼별 정보 확인 (데이터 타입, non-null의 수)\n",
    "    df.info()\n",
    "\n"
   ]
  },
  {
   "cell_type": "code",
   "execution_count": 3,
   "metadata": {},
   "outputs": [
    {
     "name": "stdout",
     "output_type": "stream",
     "text": [
      "(891, 12)\n",
      "Index(['PassengerId', 'Survived', 'Pclass', 'Name', 'Sex', 'Age', 'SibSp',\n",
      "       'Parch', 'Ticket', 'Fare', 'Cabin', 'Embarked'],\n",
      "      dtype='object')\n",
      "<class 'pandas.core.frame.DataFrame'>\n",
      "RangeIndex: 891 entries, 0 to 890\n",
      "Data columns (total 12 columns):\n",
      " #   Column       Non-Null Count  Dtype  \n",
      "---  ------       --------------  -----  \n",
      " 0   PassengerId  891 non-null    int64  \n",
      " 1   Survived     891 non-null    int64  \n",
      " 2   Pclass       891 non-null    int64  \n",
      " 3   Name         891 non-null    object \n",
      " 4   Sex          891 non-null    object \n",
      " 5   Age          714 non-null    float64\n",
      " 6   SibSp        891 non-null    int64  \n",
      " 7   Parch        891 non-null    int64  \n",
      " 8   Ticket       891 non-null    object \n",
      " 9   Fare         891 non-null    float64\n",
      " 10  Cabin        204 non-null    object \n",
      " 11  Embarked     889 non-null    object \n",
      "dtypes: float64(2), int64(5), object(5)\n",
      "memory usage: 83.7+ KB\n",
      "None\n"
     ]
    }
   ],
   "source": [
    "# 데이터 확인 \n",
    "\n",
    "print(train.shape)\n",
    "print(train.columns)\n",
    "print(train.info())\n"
   ]
  },
  {
   "cell_type": "code",
   "execution_count": 31,
   "metadata": {},
   "outputs": [
    {
     "data": {
      "text/plain": [
       "<Axes: >"
      ]
     },
     "execution_count": 31,
     "metadata": {},
     "output_type": "execute_result"
    },
    {
     "data": {
      "image/png": "[encoded data removed]",
      "text/plain": [
       "<Figure size 640x480 with 1 Axes>"
      ]
     },
     "metadata": {},
     "output_type": "display_data"
    }
   ],
   "source": [
    "# 시각화를 통한 데이터 확인\n",
    "\n",
    "# train[\"Fare\"].hist()\n",
    "\n",
    "# train[\"Fare\"].plot(kind=\"bar\")\n",
    "\n",
    "train.boxplot()\n",
    "\n",
    "# plt.boxplot(train[\"Fare\"])"
   ]
  },
  {
   "attachments": {},
   "cell_type": "markdown",
   "metadata": {},
   "source": [
    "---\n",
    "## 데이터의 기술 통계량 확인\n",
    "\n",
    "    df.describe()\n",
    "\n",
    "- 숫자형 (int, float) column들의 기술 통계량을 보여주는 함수\n",
    "\n",
    "- 기술통계량이란?\n",
    " - 해당 column을 대표할 수 있는 통계값들을 의미\n",
    " \n",
    " \n",
    "- 기술통계량 종류\n",
    " - count: 해당 column에서 비어 있지 않은 값의 개수\n",
    " - mean: 평균\n",
    " - std: 표준편차\n",
    " - min: 최솟값 (이상치 포함)\n",
    " - 25% (Q1): 전체 데이터를 순서대로 정렬했을 때, 아래에서 부터 1/4번째 지점에 있는 값\n",
    " - 50% (Q2): 중앙값 (전체 데이터를 순서대로 정렬했을 때, 아래에서 부터 2/4번째 지점에 있는 값)\n",
    " - 75% (Q3): 전체 데이터를 순서대로 정렬했을 때, 아래에서 부터 3/4번째 지점에 있는 값\n",
    " - max: 최댓값 (이상치 포함) "
   ]
  },
  {
   "cell_type": "code",
   "execution_count": 10,
   "metadata": {},
   "outputs": [
    {
     "data": {
      "text/html": [
       "<div>\n",
       "<style scoped>\n",
       "    .dataframe tbody tr th:only-of-type {\n",
       "        vertical-align: middle;\n",
       "    }\n",
       "\n",
       "    .dataframe tbody tr th {\n",
       "        vertical-align: top;\n",
       "    }\n",
       "\n",
       "    .dataframe thead th {\n",
       "        text-align: right;\n",
       "    }\n",
       "</style>\n",
       "<table border=\"1\" class=\"dataframe\">\n",
       "  <thead>\n",
       "    <tr style=\"text-align: right;\">\n",
       "      <th></th>\n",
       "      <th>PassengerId</th>\n",
       "      <th>Survived</th>\n",
       "      <th>Pclass</th>\n",
       "      <th>Age</th>\n",
       "      <th>SibSp</th>\n",
       "      <th>Parch</th>\n",
       "      <th>Fare</th>\n",
       "    </tr>\n",
       "  </thead>\n",
       "  <tbody>\n",
       "    <tr>\n",
       "      <th>count</th>\n",
       "      <td>891.000000</td>\n",
       "      <td>891.000000</td>\n",
       "      <td>891.000000</td>\n",
       "      <td>714.000000</td>\n",
       "      <td>891.000000</td>\n",
       "      <td>891.000000</td>\n",
       "      <td>891.000000</td>\n",
       "    </tr>\n",
       "    <tr>\n",
       "      <th>mean</th>\n",
       "      <td>446.000000</td>\n",
       "      <td>0.383838</td>\n",
       "      <td>2.308642</td>\n",
       "      <td>29.699118</td>\n",
       "      <td>0.523008</td>\n",
       "      <td>0.381594</td>\n",
       "      <td>32.204208</td>\n",
       "    </tr>\n",
       "    <tr>\n",
       "      <th>std</th>\n",
       "      <td>257.353842</td>\n",
       "      <td>0.486592</td>\n",
       "      <td>0.836071</td>\n",
       "      <td>14.526497</td>\n",
       "      <td>1.102743</td>\n",
       "      <td>0.806057</td>\n",
       "      <td>49.693429</td>\n",
       "    </tr>\n",
       "    <tr>\n",
       "      <th>min</th>\n",
       "      <td>1.000000</td>\n",
       "      <td>0.000000</td>\n",
       "      <td>1.000000</td>\n",
       "      <td>0.420000</td>\n",
       "      <td>0.000000</td>\n",
       "      <td>0.000000</td>\n",
       "      <td>0.000000</td>\n",
       "    </tr>\n",
       "    <tr>\n",
       "      <th>25%</th>\n",
       "      <td>223.500000</td>\n",
       "      <td>0.000000</td>\n",
       "      <td>2.000000</td>\n",
       "      <td>20.125000</td>\n",
       "      <td>0.000000</td>\n",
       "      <td>0.000000</td>\n",
       "      <td>7.910400</td>\n",
       "    </tr>\n",
       "    <tr>\n",
       "      <th>50%</th>\n",
       "      <td>446.000000</td>\n",
       "      <td>0.000000</td>\n",
       "      <td>3.000000</td>\n",
       "      <td>28.000000</td>\n",
       "      <td>0.000000</td>\n",
       "      <td>0.000000</td>\n",
       "      <td>14.454200</td>\n",
       "    </tr>\n",
       "    <tr>\n",
       "      <th>75%</th>\n",
       "      <td>668.500000</td>\n",
       "      <td>1.000000</td>\n",
       "      <td>3.000000</td>\n",
       "      <td>38.000000</td>\n",
       "      <td>1.000000</td>\n",
       "      <td>0.000000</td>\n",
       "      <td>31.000000</td>\n",
       "    </tr>\n",
       "    <tr>\n",
       "      <th>max</th>\n",
       "      <td>891.000000</td>\n",
       "      <td>1.000000</td>\n",
       "      <td>3.000000</td>\n",
       "      <td>80.000000</td>\n",
       "      <td>8.000000</td>\n",
       "      <td>6.000000</td>\n",
       "      <td>512.329200</td>\n",
       "    </tr>\n",
       "  </tbody>\n",
       "</table>\n",
       "</div>"
      ],
      "text/plain": [
       "       PassengerId    Survived      Pclass         Age       SibSp   \n",
       "count   891.000000  891.000000  891.000000  714.000000  891.000000  \\\n",
       "mean    446.000000    0.383838    2.308642   29.699118    0.523008   \n",
       "std     257.353842    0.486592    0.836071   14.526497    1.102743   \n",
       "min       1.000000    0.000000    1.000000    0.420000    0.000000   \n",
       "25%     223.500000    0.000000    2.000000   20.125000    0.000000   \n",
       "50%     446.000000    0.000000    3.000000   28.000000    0.000000   \n",
       "75%     668.500000    1.000000    3.000000   38.000000    1.000000   \n",
       "max     891.000000    1.000000    3.000000   80.000000    8.000000   \n",
       "\n",
       "            Parch        Fare  \n",
       "count  891.000000  891.000000  \n",
       "mean     0.381594   32.204208  \n",
       "std      0.806057   49.693429  \n",
       "min      0.000000    0.000000  \n",
       "25%      0.000000    7.910400  \n",
       "50%      0.000000   14.454200  \n",
       "75%      0.000000   31.000000  \n",
       "max      6.000000  512.329200  "
      ]
     },
     "execution_count": 10,
     "metadata": {},
     "output_type": "execute_result"
    }
   ],
   "source": [
    "# 데이터 기술 통계량 확인\n",
    "train.describe()"
   ]
  },
  {
   "cell_type": "code",
   "execution_count": 11,
   "metadata": {},
   "outputs": [
    {
     "data": {
      "text/plain": [
       "Embarked\n",
       "S    0.724409\n",
       "C    0.188976\n",
       "Q    0.086614\n",
       "Name: proportion, dtype: float64"
      ]
     },
     "execution_count": 11,
     "metadata": {},
     "output_type": "execute_result"
    }
   ],
   "source": [
    "# 문자열 데이터 확인\n",
    "train[\"Embarked\"].value_counts(property)"
   ]
  },
  {
   "attachments": {},
   "cell_type": "markdown",
   "metadata": {},
   "source": [
    "---\n",
    "## 결측치 확인 & 처리\n",
    "\n",
    "    전체 결측치 확인 \n",
    "    df.isna().sum().sum()\n",
    "\n",
    "    컬럼별 결측치 확인 \n",
    "    df.isna().sum()\n",
    "\n",
    "    결측치 데이터 데이터프레임 형식으로 보기\n",
    "    df[df.isna().any(axis=1)]\n",
    "    \n",
    "    삭제\n",
    "    df.dropna(axis = 0, inplace = True)\n",
    "    \n",
    "    대체(중앙값, 평균값, 최빈값)\n",
    "    df.fillna(\"\", inplace = True)\n",
    "\n",
    "    최빈값\n",
    "    from statistics import mode\n",
    "    mode(df[col])"
   ]
  },
  {
   "cell_type": "code",
   "execution_count": 12,
   "metadata": {},
   "outputs": [
    {
     "name": "stdout",
     "output_type": "stream",
     "text": [
      "866\n"
     ]
    }
   ],
   "source": [
    "# 결츨치 확인\n",
    "# df.shape\n",
    "print(train.isna().sum().sum())"
   ]
  },
  {
   "cell_type": "code",
   "execution_count": 13,
   "metadata": {},
   "outputs": [
    {
     "data": {
      "text/plain": [
       "PassengerId      0\n",
       "Survived         0\n",
       "Pclass           0\n",
       "Name             0\n",
       "Sex              0\n",
       "Age            177\n",
       "SibSp            0\n",
       "Parch            0\n",
       "Ticket           0\n",
       "Fare             0\n",
       "Cabin          687\n",
       "Embarked         2\n",
       "dtype: int64"
      ]
     },
     "execution_count": 13,
     "metadata": {},
     "output_type": "execute_result"
    }
   ],
   "source": [
    "train.isna().sum()"
   ]
  },
  {
   "cell_type": "code",
   "execution_count": 15,
   "metadata": {},
   "outputs": [
    {
     "data": {
      "text/html": [
       "<div>\n",
       "<style scoped>\n",
       "    .dataframe tbody tr th:only-of-type {\n",
       "        vertical-align: middle;\n",
       "    }\n",
       "\n",
       "    .dataframe tbody tr th {\n",
       "        vertical-align: top;\n",
       "    }\n",
       "\n",
       "    .dataframe thead th {\n",
       "        text-align: right;\n",
       "    }\n",
       "</style>\n",
       "<table border=\"1\" class=\"dataframe\">\n",
       "  <thead>\n",
       "    <tr style=\"text-align: right;\">\n",
       "      <th></th>\n",
       "      <th>PassengerId</th>\n",
       "      <th>Survived</th>\n",
       "      <th>Pclass</th>\n",
       "      <th>Name</th>\n",
       "      <th>Sex</th>\n",
       "      <th>Age</th>\n",
       "      <th>SibSp</th>\n",
       "      <th>Parch</th>\n",
       "      <th>Ticket</th>\n",
       "      <th>Fare</th>\n",
       "      <th>Cabin</th>\n",
       "      <th>Embarked</th>\n",
       "    </tr>\n",
       "  </thead>\n",
       "  <tbody>\n",
       "    <tr>\n",
       "      <th>0</th>\n",
       "      <td>1</td>\n",
       "      <td>0</td>\n",
       "      <td>3</td>\n",
       "      <td>Braund, Mr. Owen Harris</td>\n",
       "      <td>male</td>\n",
       "      <td>22.0</td>\n",
       "      <td>1</td>\n",
       "      <td>0</td>\n",
       "      <td>A/5 21171</td>\n",
       "      <td>7.2500</td>\n",
       "      <td>NaN</td>\n",
       "      <td>S</td>\n",
       "    </tr>\n",
       "    <tr>\n",
       "      <th>2</th>\n",
       "      <td>3</td>\n",
       "      <td>1</td>\n",
       "      <td>3</td>\n",
       "      <td>Heikkinen, Miss. Laina</td>\n",
       "      <td>female</td>\n",
       "      <td>26.0</td>\n",
       "      <td>0</td>\n",
       "      <td>0</td>\n",
       "      <td>STON/O2. 3101282</td>\n",
       "      <td>7.9250</td>\n",
       "      <td>NaN</td>\n",
       "      <td>S</td>\n",
       "    </tr>\n",
       "    <tr>\n",
       "      <th>4</th>\n",
       "      <td>5</td>\n",
       "      <td>0</td>\n",
       "      <td>3</td>\n",
       "      <td>Allen, Mr. William Henry</td>\n",
       "      <td>male</td>\n",
       "      <td>35.0</td>\n",
       "      <td>0</td>\n",
       "      <td>0</td>\n",
       "      <td>373450</td>\n",
       "      <td>8.0500</td>\n",
       "      <td>NaN</td>\n",
       "      <td>S</td>\n",
       "    </tr>\n",
       "    <tr>\n",
       "      <th>5</th>\n",
       "      <td>6</td>\n",
       "      <td>0</td>\n",
       "      <td>3</td>\n",
       "      <td>Moran, Mr. James</td>\n",
       "      <td>male</td>\n",
       "      <td>NaN</td>\n",
       "      <td>0</td>\n",
       "      <td>0</td>\n",
       "      <td>330877</td>\n",
       "      <td>8.4583</td>\n",
       "      <td>NaN</td>\n",
       "      <td>Q</td>\n",
       "    </tr>\n",
       "    <tr>\n",
       "      <th>7</th>\n",
       "      <td>8</td>\n",
       "      <td>0</td>\n",
       "      <td>3</td>\n",
       "      <td>Palsson, Master. Gosta Leonard</td>\n",
       "      <td>male</td>\n",
       "      <td>2.0</td>\n",
       "      <td>3</td>\n",
       "      <td>1</td>\n",
       "      <td>349909</td>\n",
       "      <td>21.0750</td>\n",
       "      <td>NaN</td>\n",
       "      <td>S</td>\n",
       "    </tr>\n",
       "    <tr>\n",
       "      <th>...</th>\n",
       "      <td>...</td>\n",
       "      <td>...</td>\n",
       "      <td>...</td>\n",
       "      <td>...</td>\n",
       "      <td>...</td>\n",
       "      <td>...</td>\n",
       "      <td>...</td>\n",
       "      <td>...</td>\n",
       "      <td>...</td>\n",
       "      <td>...</td>\n",
       "      <td>...</td>\n",
       "      <td>...</td>\n",
       "    </tr>\n",
       "    <tr>\n",
       "      <th>884</th>\n",
       "      <td>885</td>\n",
       "      <td>0</td>\n",
       "      <td>3</td>\n",
       "      <td>Sutehall, Mr. Henry Jr</td>\n",
       "      <td>male</td>\n",
       "      <td>25.0</td>\n",
       "      <td>0</td>\n",
       "      <td>0</td>\n",
       "      <td>SOTON/OQ 392076</td>\n",
       "      <td>7.0500</td>\n",
       "      <td>NaN</td>\n",
       "      <td>S</td>\n",
       "    </tr>\n",
       "    <tr>\n",
       "      <th>885</th>\n",
       "      <td>886</td>\n",
       "      <td>0</td>\n",
       "      <td>3</td>\n",
       "      <td>Rice, Mrs. William (Margaret Norton)</td>\n",
       "      <td>female</td>\n",
       "      <td>39.0</td>\n",
       "      <td>0</td>\n",
       "      <td>5</td>\n",
       "      <td>382652</td>\n",
       "      <td>29.1250</td>\n",
       "      <td>NaN</td>\n",
       "      <td>Q</td>\n",
       "    </tr>\n",
       "    <tr>\n",
       "      <th>886</th>\n",
       "      <td>887</td>\n",
       "      <td>0</td>\n",
       "      <td>2</td>\n",
       "      <td>Montvila, Rev. Juozas</td>\n",
       "      <td>male</td>\n",
       "      <td>27.0</td>\n",
       "      <td>0</td>\n",
       "      <td>0</td>\n",
       "      <td>211536</td>\n",
       "      <td>13.0000</td>\n",
       "      <td>NaN</td>\n",
       "      <td>S</td>\n",
       "    </tr>\n",
       "    <tr>\n",
       "      <th>888</th>\n",
       "      <td>889</td>\n",
       "      <td>0</td>\n",
       "      <td>3</td>\n",
       "      <td>Johnston, Miss. Catherine Helen \"Carrie\"</td>\n",
       "      <td>female</td>\n",
       "      <td>NaN</td>\n",
       "      <td>1</td>\n",
       "      <td>2</td>\n",
       "      <td>W./C. 6607</td>\n",
       "      <td>23.4500</td>\n",
       "      <td>NaN</td>\n",
       "      <td>S</td>\n",
       "    </tr>\n",
       "    <tr>\n",
       "      <th>890</th>\n",
       "      <td>891</td>\n",
       "      <td>0</td>\n",
       "      <td>3</td>\n",
       "      <td>Dooley, Mr. Patrick</td>\n",
       "      <td>male</td>\n",
       "      <td>32.0</td>\n",
       "      <td>0</td>\n",
       "      <td>0</td>\n",
       "      <td>370376</td>\n",
       "      <td>7.7500</td>\n",
       "      <td>NaN</td>\n",
       "      <td>Q</td>\n",
       "    </tr>\n",
       "  </tbody>\n",
       "</table>\n",
       "<p>708 rows × 12 columns</p>\n",
       "</div>"
      ],
      "text/plain": [
       "     PassengerId  Survived  Pclass                                      Name   \n",
       "0              1         0       3                   Braund, Mr. Owen Harris  \\\n",
       "2              3         1       3                    Heikkinen, Miss. Laina   \n",
       "4              5         0       3                  Allen, Mr. William Henry   \n",
       "5              6         0       3                          Moran, Mr. James   \n",
       "7              8         0       3            Palsson, Master. Gosta Leonard   \n",
       "..           ...       ...     ...                                       ...   \n",
       "884          885         0       3                    Sutehall, Mr. Henry Jr   \n",
       "885          886         0       3      Rice, Mrs. William (Margaret Norton)   \n",
       "886          887         0       2                     Montvila, Rev. Juozas   \n",
       "888          889         0       3  Johnston, Miss. Catherine Helen \"Carrie\"   \n",
       "890          891         0       3                       Dooley, Mr. Patrick   \n",
       "\n",
       "        Sex   Age  SibSp  Parch            Ticket     Fare Cabin Embarked  \n",
       "0      male  22.0      1      0         A/5 21171   7.2500   NaN        S  \n",
       "2    female  26.0      0      0  STON/O2. 3101282   7.9250   NaN        S  \n",
       "4      male  35.0      0      0            373450   8.0500   NaN        S  \n",
       "5      male   NaN      0      0            330877   8.4583   NaN        Q  \n",
       "7      male   2.0      3      1            349909  21.0750   NaN        S  \n",
       "..      ...   ...    ...    ...               ...      ...   ...      ...  \n",
       "884    male  25.0      0      0   SOTON/OQ 392076   7.0500   NaN        S  \n",
       "885  female  39.0      0      5            382652  29.1250   NaN        Q  \n",
       "886    male  27.0      0      0            211536  13.0000   NaN        S  \n",
       "888  female   NaN      1      2        W./C. 6607  23.4500   NaN        S  \n",
       "890    male  32.0      0      0            370376   7.7500   NaN        Q  \n",
       "\n",
       "[708 rows x 12 columns]"
      ]
     },
     "execution_count": 15,
     "metadata": {},
     "output_type": "execute_result"
    }
   ],
   "source": [
    "train[train.isna().any(axis=1)]"
   ]
  },
  {
   "cell_type": "code",
   "execution_count": 21,
   "metadata": {},
   "outputs": [],
   "source": [
    "# 결측치 처리\n",
    "#  df.shape\n",
    "#  Age는 평균값 cabin는  최빈값으로 Embarked의 결측치는 삭제해봅시다! \n",
    "\n",
    "train[\"Age\"].fillna(train[\"Age\"].mean,inplace=True )\n",
    "\n",
    "from statistics import mode\n",
    "train[\"Cabin\"].fillna(mode(train[\"Cabin\"]), inplace=True)\n",
    "\n",
    "train[\"Embarked\"].dropna(axis=0, inplace=True)"
   ]
  },
  {
   "cell_type": "code",
   "execution_count": 22,
   "metadata": {},
   "outputs": [
    {
     "data": {
      "text/plain": [
       "PassengerId    0\n",
       "Survived       0\n",
       "Pclass         0\n",
       "Name           0\n",
       "Sex            0\n",
       "Age            0\n",
       "SibSp          0\n",
       "Parch          0\n",
       "Ticket         0\n",
       "Fare           0\n",
       "Cabin          0\n",
       "Embarked       0\n",
       "dtype: int64"
      ]
     },
     "execution_count": 22,
     "metadata": {},
     "output_type": "execute_result"
    }
   ],
   "source": [
    "train.isna().sum()"
   ]
  },
  {
   "attachments": {},
   "cell_type": "markdown",
   "metadata": {},
   "source": [
    "---\n",
    "## 무한대 값 확인 \n",
    "df[df.isin(np.abs([np.inf])).any(axis=1)]"
   ]
  },
  {
   "cell_type": "code",
   "execution_count": 26,
   "metadata": {},
   "outputs": [
    {
     "data": {
      "text/html": [
       "<div>\n",
       "<style scoped>\n",
       "    .dataframe tbody tr th:only-of-type {\n",
       "        vertical-align: middle;\n",
       "    }\n",
       "\n",
       "    .dataframe tbody tr th {\n",
       "        vertical-align: top;\n",
       "    }\n",
       "\n",
       "    .dataframe thead th {\n",
       "        text-align: right;\n",
       "    }\n",
       "</style>\n",
       "<table border=\"1\" class=\"dataframe\">\n",
       "  <thead>\n",
       "    <tr style=\"text-align: right;\">\n",
       "      <th></th>\n",
       "      <th>PassengerId</th>\n",
       "      <th>Survived</th>\n",
       "      <th>Pclass</th>\n",
       "      <th>Name</th>\n",
       "      <th>Sex</th>\n",
       "      <th>Age</th>\n",
       "      <th>SibSp</th>\n",
       "      <th>Parch</th>\n",
       "      <th>Ticket</th>\n",
       "      <th>Fare</th>\n",
       "      <th>Cabin</th>\n",
       "      <th>Embarked</th>\n",
       "    </tr>\n",
       "  </thead>\n",
       "  <tbody>\n",
       "  </tbody>\n",
       "</table>\n",
       "</div>"
      ],
      "text/plain": [
       "Empty DataFrame\n",
       "Columns: [PassengerId, Survived, Pclass, Name, Sex, Age, SibSp, Parch, Ticket, Fare, Cabin, Embarked]\n",
       "Index: []"
      ]
     },
     "execution_count": 26,
     "metadata": {},
     "output_type": "execute_result"
    }
   ],
   "source": [
    "# 데이터 무한대값 확인\n",
    "\n",
    "train[train.isin([np.inf]).any(axis = 1)]"
   ]
  },
  {
   "cell_type": "code",
   "execution_count": 66,
   "metadata": {},
   "outputs": [],
   "source": [
    "# 무한대 값을 가지는 데이터 처리\n",
    "# df.shape"
   ]
  },
  {
   "attachments": {},
   "cell_type": "markdown",
   "metadata": {},
   "source": [
    "--- \n",
    "## 이상치 확인 & 처리 "
   ]
  },
  {
   "attachments": {},
   "cell_type": "markdown",
   "metadata": {},
   "source": [
    "### IQR을 이용한 이상치 확인 & 처리\n",
    "\n",
    "\n",
    "    quantile_25 = np.percentile(df[column].values, 25)\n",
    "    quantile_75 = np.percentile(df[column].values, 75)\n",
    "\n",
    "    IQR = quantile_75 - quantile_25\n",
    "    IQR_weight = IQR*1.5\n",
    "  \n",
    "    lowest = quantile_25 - IQR_weight\n",
    "    highest = quantile_75 + IQR_weight\n",
    "    \n",
    "    outlier_idx = df[column][ (df[column] < lowest) | (df[column] > highest) ].index"
   ]
  },
  {
   "cell_type": "code",
   "execution_count": 63,
   "metadata": {},
   "outputs": [
    {
     "data": {
      "text/plain": [
       "891"
      ]
     },
     "execution_count": 63,
     "metadata": {},
     "output_type": "execute_result"
    }
   ],
   "source": [
    "train_1 = train.copy()\n",
    "len(train[\"Fare\"])"
   ]
  },
  {
   "cell_type": "code",
   "execution_count": 34,
   "metadata": {},
   "outputs": [],
   "source": [
    "win = train_1.select_dtypes(exclude=\"object\")\n",
    "\n",
    "\n",
    "quantile_25 = np.percentile(win[\"Fare\"].values, 25)\n",
    "quantile_75 = np.percentile(win[\"Fare\"].values, 75)\n",
    "\n",
    "IQR = quantile_75 - quantile_25\n",
    "IQR_weight = IQR*1.5\n",
    "  \n",
    "lowest = quantile_25 - IQR_weight\n",
    "highest = quantile_75 + IQR_weight\n",
    "    \n",
    "outlier_idx = win[\"Fare\"][ (win[\"Fare\"] < lowest) | (win[\"Fare\"] > highest) ].index\n"
   ]
  },
  {
   "cell_type": "code",
   "execution_count": 36,
   "metadata": {},
   "outputs": [
    {
     "data": {
      "text/plain": [
       "775"
      ]
     },
     "execution_count": 36,
     "metadata": {},
     "output_type": "execute_result"
    }
   ],
   "source": [
    "\n",
    "\n",
    "\n",
    "\n",
    "\n",
    "train_1.drop(index=outlier_idx, axis=0, inplace=True)\n",
    "len(train_1[\"Fare\"])"
   ]
  },
  {
   "cell_type": "code",
   "execution_count": 40,
   "metadata": {},
   "outputs": [
    {
     "data": {
      "text/plain": [
       "{'whiskers': [<matplotlib.lines.Line2D at 0x14c6ca55090>,\n",
       "  <matplotlib.lines.Line2D at 0x14c6ca55330>],\n",
       " 'caps': [<matplotlib.lines.Line2D at 0x14c6ca554b0>,\n",
       "  <matplotlib.lines.Line2D at 0x14c6ca55750>],\n",
       " 'boxes': [<matplotlib.lines.Line2D at 0x14c6ca54df0>],\n",
       " 'medians': [<matplotlib.lines.Line2D at 0x14c6ca559c0>],\n",
       " 'fliers': [<matplotlib.lines.Line2D at 0x14c6ca55c60>],\n",
       " 'means': []}"
      ]
     },
     "execution_count": 40,
     "metadata": {},
     "output_type": "execute_result"
    },
    {
     "data": {
      "image/png": "[encoded data removed]",
      "text/plain": [
       "<Figure size 640x480 with 1 Axes>"
      ]
     },
     "metadata": {},
     "output_type": "display_data"
    }
   ],
   "source": [
    "plt.boxplot(train[\"Fare\"])"
   ]
  },
  {
   "cell_type": "code",
   "execution_count": 42,
   "metadata": {},
   "outputs": [
    {
     "data": {
      "text/plain": [
       "258"
      ]
     },
     "execution_count": 42,
     "metadata": {},
     "output_type": "execute_result"
    }
   ],
   "source": [
    "np.argmax(train[\"Fare\"])"
   ]
  },
  {
   "cell_type": "code",
   "execution_count": 43,
   "metadata": {},
   "outputs": [
    {
     "data": {
      "text/plain": [
       "PassengerId                                                  259\n",
       "Survived                                                       1\n",
       "Pclass                                                         1\n",
       "Name                                            Ward, Miss. Anna\n",
       "Sex                                                       female\n",
       "Age                                                         35.0\n",
       "SibSp                                                          0\n",
       "Parch                                                          0\n",
       "Ticket                                                  PC 17755\n",
       "Fare                                                    512.3292\n",
       "Cabin          <bound method NDFrame._add_numeric_operations....\n",
       "Embarked                                                       C\n",
       "Name: 258, dtype: object"
      ]
     },
     "execution_count": 43,
     "metadata": {},
     "output_type": "execute_result"
    }
   ],
   "source": [
    "train.loc[258,:]"
   ]
  },
  {
   "cell_type": "code",
   "execution_count": 73,
   "metadata": {},
   "outputs": [],
   "source": [
    "train_1 = train.copy()"
   ]
  },
  {
   "cell_type": "code",
   "execution_count": 77,
   "metadata": {},
   "outputs": [
    {
     "data": {
      "text/plain": [
       "{'whiskers': [<matplotlib.lines.Line2D at 0x14c6d1d2530>,\n",
       "  <matplotlib.lines.Line2D at 0x14c6d1d27d0>],\n",
       " 'caps': [<matplotlib.lines.Line2D at 0x14c6d1d2a70>,\n",
       "  <matplotlib.lines.Line2D at 0x14c6d1d2d10>],\n",
       " 'boxes': [<matplotlib.lines.Line2D at 0x14c6d1d2290>],\n",
       " 'medians': [<matplotlib.lines.Line2D at 0x14c6d1d2fb0>],\n",
       " 'fliers': [<matplotlib.lines.Line2D at 0x14c6d1d3250>],\n",
       " 'means': []}"
      ]
     },
     "execution_count": 77,
     "metadata": {},
     "output_type": "execute_result"
    },
    {
     "data": {
      "image/png": "[encoded data removed]",
      "text/plain": [
       "<Figure size 640x480 with 1 Axes>"
      ]
     },
     "metadata": {},
     "output_type": "display_data"
    }
   ],
   "source": [
    "train_1 = train.copy()\n",
    "quantile_5 = np.percentile(train_1[\"Fare\"].values, 99.5)\n",
    "quantile__5 = np.percentile(train_1[\"Fare\"].values, 0.5)\n",
    "\n",
    "train_1[train_1[\"Fare\"]>quantile_5] = quantile_5\n",
    "train_1[train_1[\"Fare\"]<quantile__5] = quantile__5\n",
    "\n",
    "plt.boxplot(train_1[\"Fare\"])"
   ]
  },
  {
   "cell_type": "code",
   "execution_count": 80,
   "metadata": {},
   "outputs": [
    {
     "data": {
      "text/plain": [
       "{'whiskers': [<matplotlib.lines.Line2D at 0x14c6d0e8dc0>,\n",
       "  <matplotlib.lines.Line2D at 0x14c6d09d300>],\n",
       " 'caps': [<matplotlib.lines.Line2D at 0x14c6d00ba90>,\n",
       "  <matplotlib.lines.Line2D at 0x14c6d0e9000>],\n",
       " 'boxes': [<matplotlib.lines.Line2D at 0x14c6d0e8b20>],\n",
       " 'medians': [<matplotlib.lines.Line2D at 0x14c6d0e92a0>],\n",
       " 'fliers': [<matplotlib.lines.Line2D at 0x14c6d0e9540>],\n",
       " 'means': []}"
      ]
     },
     "execution_count": 80,
     "metadata": {},
     "output_type": "execute_result"
    },
    {
     "data": {
      "image/png": "[encoded data removed]",
      "text/plain": [
       "<Figure size 640x480 with 1 Axes>"
      ]
     },
     "metadata": {},
     "output_type": "display_data"
    }
   ],
   "source": [
    "train_1 = train.copy()\n",
    "\n",
    "quantile_5 = np.percentile(train_1[\"Fare\"].values, 99.5)\n",
    "quantile__5 = np.percentile(train_1[\"Fare\"].values, 0.5)\n",
    "\n",
    "train_1[train_1[\"Fare\"]>quantile_5][\"Fare\"].replace(quantile_5)\n",
    "train_1[train_1[\"Fare\"]<quantile__5][\"Fare\"].replace(quantile__5)\n",
    "\n",
    "\n",
    "plt.boxplot(train_1[\"Fare\"])"
   ]
  },
  {
   "cell_type": "code",
   "execution_count": 79,
   "metadata": {},
   "outputs": [
    {
     "data": {
      "text/plain": [
       "{'whiskers': [<matplotlib.lines.Line2D at 0x14c6d062ec0>,\n",
       "  <matplotlib.lines.Line2D at 0x14c6d063160>],\n",
       " 'caps': [<matplotlib.lines.Line2D at 0x14c6d0632e0>,\n",
       "  <matplotlib.lines.Line2D at 0x14c6d063580>],\n",
       " 'boxes': [<matplotlib.lines.Line2D at 0x14c6d062c20>],\n",
       " 'medians': [<matplotlib.lines.Line2D at 0x14c6d063820>],\n",
       " 'fliers': [<matplotlib.lines.Line2D at 0x14c6d063ac0>],\n",
       " 'means': []}"
      ]
     },
     "execution_count": 79,
     "metadata": {},
     "output_type": "execute_result"
    },
    {
     "data": {
      "image/png": "[encoded data removed]",
      "text/plain": [
       "<Figure size 640x480 with 1 Axes>"
      ]
     },
     "metadata": {},
     "output_type": "display_data"
    }
   ],
   "source": [
    "train_1 = train.copy()\n",
    "\n",
    "quantile_5 = np.percentile(train_1[\"Fare\"].values, 99.5)\n",
    "quantile__5 = np.percentile(train_1[\"Fare\"].values, 0.5)\n",
    "\n",
    "\n",
    "for i in train_1.index:\n",
    "    if train.loc[i, \"Fare\"] > quantile_5:\n",
    "        train.loc[i, \"Fare\"] = quantile_5\n",
    "    elif train.loc[i, \"Fare\"] < quantile__5:\n",
    "        train.loc[i, \"Fare\"] = quantile__5\n",
    "    else:\n",
    "        pass\n",
    "\n",
    "plt.boxplot(train_1[\"Fare\"])"
   ]
  },
  {
   "attachments": {},
   "cell_type": "markdown",
   "metadata": {},
   "source": [
    "---\n",
    "### 윈저라이징 (Winsorizing)\n",
    "### 이상치를 제거하는 대신 이상치 값을 분포의 상/하한값으로 대체하는 방식\n",
    "\n",
    "plt.boxplot(df[col])\n",
    "\n",
    "    from scipy.stats.mstats  import winsorize\n",
    "    winsorize(df[col],limits=[0.005, 0.005])\n",
    "\n",
    "plt.boxplot(df[col])"
   ]
  },
  {
   "cell_type": "code",
   "execution_count": null,
   "metadata": {},
   "outputs": [],
   "source": []
  },
  {
   "cell_type": "code",
   "execution_count": null,
   "metadata": {},
   "outputs": [],
   "source": []
  },
  {
   "cell_type": "code",
   "execution_count": 48,
   "metadata": {},
   "outputs": [],
   "source": [
    "from scipy.stats.mstats import winsorize\n",
    "\n",
    "train_1[\"Fare\"] =  winsorize(train_1[\"Fare\"], limits=[0.05, 0.05])"
   ]
  },
  {
   "cell_type": "code",
   "execution_count": 46,
   "metadata": {},
   "outputs": [
    {
     "data": {
      "text/plain": [
       "{'whiskers': [<matplotlib.lines.Line2D at 0x14c6cc2a9e0>,\n",
       "  <matplotlib.lines.Line2D at 0x14c6cc2ac80>],\n",
       " 'caps': [<matplotlib.lines.Line2D at 0x14c6cc2af20>,\n",
       "  <matplotlib.lines.Line2D at 0x14c6cc2b1c0>],\n",
       " 'boxes': [<matplotlib.lines.Line2D at 0x14c6cc2a740>],\n",
       " 'medians': [<matplotlib.lines.Line2D at 0x14c6cc2b460>],\n",
       " 'fliers': [<matplotlib.lines.Line2D at 0x14c6cc2b700>],\n",
       " 'means': []}"
      ]
     },
     "execution_count": 46,
     "metadata": {},
     "output_type": "execute_result"
    },
    {
     "data": {
      "image/png": "[encoded data removed]",
      "text/plain": [
       "<Figure size 640x480 with 1 Axes>"
      ]
     },
     "metadata": {},
     "output_type": "display_data"
    }
   ],
   "source": [
    "plt.boxplot(train[\"Fare\"])"
   ]
  },
  {
   "cell_type": "code",
   "execution_count": 49,
   "metadata": {},
   "outputs": [
    {
     "data": {
      "text/plain": [
       "{'whiskers': [<matplotlib.lines.Line2D at 0x14c6ccf3ee0>,\n",
       "  <matplotlib.lines.Line2D at 0x14c6cd1c1c0>],\n",
       " 'caps': [<matplotlib.lines.Line2D at 0x14c6cd1c460>,\n",
       "  <matplotlib.lines.Line2D at 0x14c6cd1c700>],\n",
       " 'boxes': [<matplotlib.lines.Line2D at 0x14c6ccf2b00>],\n",
       " 'medians': [<matplotlib.lines.Line2D at 0x14c6cd1c9a0>],\n",
       " 'fliers': [<matplotlib.lines.Line2D at 0x14c6cd1cc40>],\n",
       " 'means': []}"
      ]
     },
     "execution_count": 49,
     "metadata": {},
     "output_type": "execute_result"
    },
    {
     "data": {
      "image/png": "[encoded data removed]",
      "text/plain": [
       "<Figure size 640x480 with 1 Axes>"
      ]
     },
     "metadata": {},
     "output_type": "display_data"
    }
   ],
   "source": [
    "plt.boxplot(train_1[\"Fare\"])"
   ]
  },
  {
   "attachments": {},
   "cell_type": "markdown",
   "metadata": {},
   "source": [
    "---\n",
    "### isolation forest\n",
    "\n",
    "\n",
    "\n",
    "![Untitled](https://github.com/juno-bara/Ubion_Hackathon/assets/124761676/91a51b10-6bd1-4b36-8b6f-5aa5e9b94c4a)\n",
    "\n",
    "\n",
    "\n",
    "    from sklearn.ensemble import IsolationForest\n",
    "\n",
    "    clf = IsolationForest(max_samples=100, contamination = 0.1, random_state=42)\n",
    "    clf.fit(df)\n",
    "\n",
    "    이상치가 아닌 값 추출해서 데이터프레임 \n",
    "    sklearn에서는 predic를 한 결과는 이상치는 -1, 정상치는 1로 반환하여 리턴해줌\n",
    "    isol_df = df[clf.predict(df) != -1]\n",
    "\n"
   ]
  },
  {
   "cell_type": "code",
   "execution_count": 9,
   "metadata": {},
   "outputs": [],
   "source": [
    "train_1 = train.copy()\n",
    "train_1 = train_1.select_dtypes(\"float\")"
   ]
  },
  {
   "cell_type": "code",
   "execution_count": 12,
   "metadata": {},
   "outputs": [
    {
     "data": {
      "text/plain": [
       "(183, 2)"
      ]
     },
     "execution_count": 12,
     "metadata": {},
     "output_type": "execute_result"
    }
   ],
   "source": [
    "train.select_dtypes(\"float\").shape"
   ]
  },
  {
   "cell_type": "code",
   "execution_count": 11,
   "metadata": {},
   "outputs": [
    {
     "name": "stderr",
     "output_type": "stream",
     "text": [
      "c:\\Users\\leeju\\AppData\\Local\\Programs\\Python\\Python310\\lib\\site-packages\\sklearn\\base.py:439: UserWarning: X does not have valid feature names, but IsolationForest was fitted with feature names\n",
      "  warnings.warn(\n"
     ]
    },
    {
     "data": {
      "text/html": [
       "<div>\n",
       "<style scoped>\n",
       "    .dataframe tbody tr th:only-of-type {\n",
       "        vertical-align: middle;\n",
       "    }\n",
       "\n",
       "    .dataframe tbody tr th {\n",
       "        vertical-align: top;\n",
       "    }\n",
       "\n",
       "    .dataframe thead th {\n",
       "        text-align: right;\n",
       "    }\n",
       "</style>\n",
       "<table border=\"1\" class=\"dataframe\">\n",
       "  <thead>\n",
       "    <tr style=\"text-align: right;\">\n",
       "      <th></th>\n",
       "      <th>Age</th>\n",
       "      <th>Fare</th>\n",
       "    </tr>\n",
       "  </thead>\n",
       "  <tbody>\n",
       "    <tr>\n",
       "      <th>1</th>\n",
       "      <td>38.0</td>\n",
       "      <td>71.2833</td>\n",
       "    </tr>\n",
       "    <tr>\n",
       "      <th>3</th>\n",
       "      <td>35.0</td>\n",
       "      <td>53.1000</td>\n",
       "    </tr>\n",
       "    <tr>\n",
       "      <th>6</th>\n",
       "      <td>54.0</td>\n",
       "      <td>51.8625</td>\n",
       "    </tr>\n",
       "    <tr>\n",
       "      <th>10</th>\n",
       "      <td>4.0</td>\n",
       "      <td>16.7000</td>\n",
       "    </tr>\n",
       "    <tr>\n",
       "      <th>11</th>\n",
       "      <td>58.0</td>\n",
       "      <td>26.5500</td>\n",
       "    </tr>\n",
       "    <tr>\n",
       "      <th>...</th>\n",
       "      <td>...</td>\n",
       "      <td>...</td>\n",
       "    </tr>\n",
       "    <tr>\n",
       "      <th>871</th>\n",
       "      <td>47.0</td>\n",
       "      <td>52.5542</td>\n",
       "    </tr>\n",
       "    <tr>\n",
       "      <th>872</th>\n",
       "      <td>33.0</td>\n",
       "      <td>5.0000</td>\n",
       "    </tr>\n",
       "    <tr>\n",
       "      <th>879</th>\n",
       "      <td>56.0</td>\n",
       "      <td>83.1583</td>\n",
       "    </tr>\n",
       "    <tr>\n",
       "      <th>887</th>\n",
       "      <td>19.0</td>\n",
       "      <td>30.0000</td>\n",
       "    </tr>\n",
       "    <tr>\n",
       "      <th>889</th>\n",
       "      <td>26.0</td>\n",
       "      <td>30.0000</td>\n",
       "    </tr>\n",
       "  </tbody>\n",
       "</table>\n",
       "<p>164 rows × 2 columns</p>\n",
       "</div>"
      ],
      "text/plain": [
       "      Age     Fare\n",
       "1    38.0  71.2833\n",
       "3    35.0  53.1000\n",
       "6    54.0  51.8625\n",
       "10    4.0  16.7000\n",
       "11   58.0  26.5500\n",
       "..    ...      ...\n",
       "871  47.0  52.5542\n",
       "872  33.0   5.0000\n",
       "879  56.0  83.1583\n",
       "887  19.0  30.0000\n",
       "889  26.0  30.0000\n",
       "\n",
       "[164 rows x 2 columns]"
      ]
     },
     "execution_count": 11,
     "metadata": {},
     "output_type": "execute_result"
    }
   ],
   "source": [
    "from sklearn.ensemble import IsolationForest\n",
    "\n",
    "clf = IsolationForest(max_samples=100, contamination = 0.1, random_state=42)\n",
    "clf.fit(train_1)\n",
    "\n",
    "# 이상치가 아닌 값 추출해서 데이터프레임 \n",
    "# sklearn에서는 predic를 한 결과는 이상치는 -1, 정상치는 1로 반환하여 리턴해줌\n",
    "isol_train = train_1[clf.predict(train_1) != -1]\n",
    "isol_train"
   ]
  },
  {
   "attachments": {},
   "cell_type": "markdown",
   "metadata": {},
   "source": [
    "---\n",
    "### KMeans\n",
    "\n",
    "\n",
    "    # KMeans 클러스터링을 이용해서 이상치 제거 (for문을 통해 n_clusters=13 도출)\n",
    "    from sklearn.cluster import KMeans\n",
    "    clf = KMeans(n_clusters=2, random_state=156)\n",
    "    clf.fit(df)\n",
    "    df[clf.predict(df)==0]\n",
    "\n",
    "    # 군집화 평가를 위해 실루엣 계수 이용\n",
    "    from sklearn.metrics import silhouette_score\n",
    "    clf = KMeans(n_clusters=2, random_state=156)\n",
    "    clf.fit(df_수치)\n",
    "    df_km = df_수치[clf.predict(df_수치)==0]\n",
    "    label = clf.labels_\n",
    "    score_samples = silhouette_score(df_수치,label)\n",
    "    print('silhouette:',score_samples)"
   ]
  },
  {
   "cell_type": "code",
   "execution_count": 14,
   "metadata": {},
   "outputs": [
    {
     "data": {
      "text/plain": [
       "(183, 2)"
      ]
     },
     "execution_count": 14,
     "metadata": {},
     "output_type": "execute_result"
    }
   ],
   "source": [
    "train.select_dtypes(\"float\").shape"
   ]
  },
  {
   "cell_type": "code",
   "execution_count": 21,
   "metadata": {},
   "outputs": [
    {
     "name": "stderr",
     "output_type": "stream",
     "text": [
      "c:\\Users\\leeju\\AppData\\Local\\Programs\\Python\\Python310\\lib\\site-packages\\sklearn\\cluster\\_kmeans.py:870: FutureWarning: The default value of `n_init` will change from 10 to 'auto' in 1.4. Set the value of `n_init` explicitly to suppress the warning\n",
      "  warnings.warn(\n"
     ]
    },
    {
     "data": {
      "text/html": [
       "<div>\n",
       "<style scoped>\n",
       "    .dataframe tbody tr th:only-of-type {\n",
       "        vertical-align: middle;\n",
       "    }\n",
       "\n",
       "    .dataframe tbody tr th {\n",
       "        vertical-align: top;\n",
       "    }\n",
       "\n",
       "    .dataframe thead th {\n",
       "        text-align: right;\n",
       "    }\n",
       "</style>\n",
       "<table border=\"1\" class=\"dataframe\">\n",
       "  <thead>\n",
       "    <tr style=\"text-align: right;\">\n",
       "      <th></th>\n",
       "      <th>Age</th>\n",
       "      <th>Fare</th>\n",
       "    </tr>\n",
       "  </thead>\n",
       "  <tbody>\n",
       "    <tr>\n",
       "      <th>1</th>\n",
       "      <td>38.0</td>\n",
       "      <td>71.2833</td>\n",
       "    </tr>\n",
       "    <tr>\n",
       "      <th>3</th>\n",
       "      <td>35.0</td>\n",
       "      <td>53.1000</td>\n",
       "    </tr>\n",
       "    <tr>\n",
       "      <th>6</th>\n",
       "      <td>54.0</td>\n",
       "      <td>51.8625</td>\n",
       "    </tr>\n",
       "    <tr>\n",
       "      <th>10</th>\n",
       "      <td>4.0</td>\n",
       "      <td>16.7000</td>\n",
       "    </tr>\n",
       "    <tr>\n",
       "      <th>11</th>\n",
       "      <td>58.0</td>\n",
       "      <td>26.5500</td>\n",
       "    </tr>\n",
       "    <tr>\n",
       "      <th>...</th>\n",
       "      <td>...</td>\n",
       "      <td>...</td>\n",
       "    </tr>\n",
       "    <tr>\n",
       "      <th>871</th>\n",
       "      <td>47.0</td>\n",
       "      <td>52.5542</td>\n",
       "    </tr>\n",
       "    <tr>\n",
       "      <th>872</th>\n",
       "      <td>33.0</td>\n",
       "      <td>5.0000</td>\n",
       "    </tr>\n",
       "    <tr>\n",
       "      <th>879</th>\n",
       "      <td>56.0</td>\n",
       "      <td>83.1583</td>\n",
       "    </tr>\n",
       "    <tr>\n",
       "      <th>887</th>\n",
       "      <td>19.0</td>\n",
       "      <td>30.0000</td>\n",
       "    </tr>\n",
       "    <tr>\n",
       "      <th>889</th>\n",
       "      <td>26.0</td>\n",
       "      <td>30.0000</td>\n",
       "    </tr>\n",
       "  </tbody>\n",
       "</table>\n",
       "<p>167 rows × 2 columns</p>\n",
       "</div>"
      ],
      "text/plain": [
       "      Age     Fare\n",
       "1    38.0  71.2833\n",
       "3    35.0  53.1000\n",
       "6    54.0  51.8625\n",
       "10    4.0  16.7000\n",
       "11   58.0  26.5500\n",
       "..    ...      ...\n",
       "871  47.0  52.5542\n",
       "872  33.0   5.0000\n",
       "879  56.0  83.1583\n",
       "887  19.0  30.0000\n",
       "889  26.0  30.0000\n",
       "\n",
       "[167 rows x 2 columns]"
      ]
     },
     "execution_count": 21,
     "metadata": {},
     "output_type": "execute_result"
    }
   ],
   "source": [
    "# KMeans 클러스터링을 이용해서 이상치 제거 \n",
    "train_1 = train.copy()\n",
    "train_1 = train_1.select_dtypes(\"float\")\n",
    "\n",
    "# KMeans 클러스터링을 이용해서 이상치 제거 (for문을 통해 n_clusters=13 도출)\n",
    "from sklearn.cluster import KMeans\n",
    "clf = KMeans(n_clusters=2, random_state=156)\n",
    "clf.fit(train_1)\n",
    "train_1[clf.predict(train_1)==0]\n",
    "\n"
   ]
  },
  {
   "cell_type": "code",
   "execution_count": 15,
   "metadata": {},
   "outputs": [
    {
     "name": "stdout",
     "output_type": "stream",
     "text": [
      "silhouette: 0.7343588149358308\n"
     ]
    },
    {
     "name": "stderr",
     "output_type": "stream",
     "text": [
      "c:\\Users\\leeju\\AppData\\Local\\Programs\\Python\\Python310\\lib\\site-packages\\sklearn\\cluster\\_kmeans.py:870: FutureWarning: The default value of `n_init` will change from 10 to 'auto' in 1.4. Set the value of `n_init` explicitly to suppress the warning\n",
      "  warnings.warn(\n"
     ]
    }
   ],
   "source": [
    "# 군집화 평가를 위해 실루엣 계수 이용\n",
    "\n",
    "from sklearn.metrics import silhouette_score\n",
    "clf = KMeans(n_clusters=2, random_state=156)\n",
    "clf.fit(train_1.select_dtypes(\"float\"))\n",
    "df_km = train_1.select_dtypes(\"float\")[clf.predict(train_1.select_dtypes(\"float\"))==0]\n",
    "label = clf.labels_\n",
    "score_samples = silhouette_score(train_1.select_dtypes(\"float\"),label)\n",
    "print('silhouette:',score_samples)"
   ]
  },
  {
   "attachments": {},
   "cell_type": "markdown",
   "metadata": {},
   "source": [
    "---\n",
    "## 데이터 상관관계 분석\n",
    "\n",
    "    df.corr(\"pearson\")\n",
    "    df.corr(\"kendall\")\n",
    "    df.corr(\"spearman\")\n",
    "\n",
    "\n",
    "    colormap = plt.cm.PuBu\n",
    "    upp_mat = np.triu(df.corr())\n",
    "    plt.figure(figsize=(10, 10))\n",
    "    plt.rcParams['axes.unicode_minus'] = False\n",
    "    plt.rc('font', family=\"Malgun Gothic\")\n",
    "    plt.title(\"Correlation of Features\", y=1.05, size=15)\n",
    "    sns.heatmap(df.corr(), linewidths=0.1, vmax=1.0, vmin=-1.0, square=True,\n",
    "                cmap=colormap, linecolor=\"white\", annot=True, mask=upp_mat)\n",
    "\n",
    "\n",
    "    from statsmodels.stats.outliers_influence import variance_inflation_factor\n",
    "    VIF 출력을 위한 데이터 프레임 형성\n",
    "    vif = pd.DataFrame()\n",
    "\n",
    "    VIF 값과 각 Feature 이름에 대해 설정\n",
    "    vif[\"VIF Factor\"] = [variance_inflation_factor(df.values, i) for i in range(df.shape[1])]\n",
    "    vif[\"features\"] = df.columns \n",
    "\n",
    "    VIF 값이 높은 순으로 정렬\n",
    "    vif = vif.sort_values(by=\"VIF Factor\", ascending=False)\n",
    "    vif = vif.reset_index().drop(columns='index')\n",
    "    vif"
   ]
  },
  {
   "cell_type": "code",
   "execution_count": 24,
   "metadata": {},
   "outputs": [
    {
     "data": {
      "text/html": [
       "<div>\n",
       "<style scoped>\n",
       "    .dataframe tbody tr th:only-of-type {\n",
       "        vertical-align: middle;\n",
       "    }\n",
       "\n",
       "    .dataframe tbody tr th {\n",
       "        vertical-align: top;\n",
       "    }\n",
       "\n",
       "    .dataframe thead th {\n",
       "        text-align: right;\n",
       "    }\n",
       "</style>\n",
       "<table border=\"1\" class=\"dataframe\">\n",
       "  <thead>\n",
       "    <tr style=\"text-align: right;\">\n",
       "      <th></th>\n",
       "      <th>PassengerId</th>\n",
       "      <th>Survived</th>\n",
       "      <th>Pclass</th>\n",
       "      <th>Age</th>\n",
       "      <th>SibSp</th>\n",
       "      <th>Parch</th>\n",
       "      <th>Fare</th>\n",
       "    </tr>\n",
       "  </thead>\n",
       "  <tbody>\n",
       "    <tr>\n",
       "      <th>PassengerId</th>\n",
       "      <td>1.000000</td>\n",
       "      <td>0.148495</td>\n",
       "      <td>-0.089136</td>\n",
       "      <td>0.030933</td>\n",
       "      <td>-0.083488</td>\n",
       "      <td>-0.051454</td>\n",
       "      <td>0.029740</td>\n",
       "    </tr>\n",
       "    <tr>\n",
       "      <th>Survived</th>\n",
       "      <td>0.148495</td>\n",
       "      <td>1.000000</td>\n",
       "      <td>-0.034542</td>\n",
       "      <td>-0.254085</td>\n",
       "      <td>0.106346</td>\n",
       "      <td>0.023582</td>\n",
       "      <td>0.134241</td>\n",
       "    </tr>\n",
       "    <tr>\n",
       "      <th>Pclass</th>\n",
       "      <td>-0.089136</td>\n",
       "      <td>-0.034542</td>\n",
       "      <td>1.000000</td>\n",
       "      <td>-0.306514</td>\n",
       "      <td>-0.103592</td>\n",
       "      <td>0.047496</td>\n",
       "      <td>-0.315235</td>\n",
       "    </tr>\n",
       "    <tr>\n",
       "      <th>Age</th>\n",
       "      <td>0.030933</td>\n",
       "      <td>-0.254085</td>\n",
       "      <td>-0.306514</td>\n",
       "      <td>1.000000</td>\n",
       "      <td>-0.156162</td>\n",
       "      <td>-0.271271</td>\n",
       "      <td>-0.092424</td>\n",
       "    </tr>\n",
       "    <tr>\n",
       "      <th>SibSp</th>\n",
       "      <td>-0.083488</td>\n",
       "      <td>0.106346</td>\n",
       "      <td>-0.103592</td>\n",
       "      <td>-0.156162</td>\n",
       "      <td>1.000000</td>\n",
       "      <td>0.255346</td>\n",
       "      <td>0.286433</td>\n",
       "    </tr>\n",
       "    <tr>\n",
       "      <th>Parch</th>\n",
       "      <td>-0.051454</td>\n",
       "      <td>0.023582</td>\n",
       "      <td>0.047496</td>\n",
       "      <td>-0.271271</td>\n",
       "      <td>0.255346</td>\n",
       "      <td>1.000000</td>\n",
       "      <td>0.389740</td>\n",
       "    </tr>\n",
       "    <tr>\n",
       "      <th>Fare</th>\n",
       "      <td>0.029740</td>\n",
       "      <td>0.134241</td>\n",
       "      <td>-0.315235</td>\n",
       "      <td>-0.092424</td>\n",
       "      <td>0.286433</td>\n",
       "      <td>0.389740</td>\n",
       "      <td>1.000000</td>\n",
       "    </tr>\n",
       "  </tbody>\n",
       "</table>\n",
       "</div>"
      ],
      "text/plain": [
       "             PassengerId  Survived    Pclass       Age     SibSp     Parch   \n",
       "PassengerId     1.000000  0.148495 -0.089136  0.030933 -0.083488 -0.051454  \\\n",
       "Survived        0.148495  1.000000 -0.034542 -0.254085  0.106346  0.023582   \n",
       "Pclass         -0.089136 -0.034542  1.000000 -0.306514 -0.103592  0.047496   \n",
       "Age             0.030933 -0.254085 -0.306514  1.000000 -0.156162 -0.271271   \n",
       "SibSp          -0.083488  0.106346 -0.103592 -0.156162  1.000000  0.255346   \n",
       "Parch          -0.051454  0.023582  0.047496 -0.271271  0.255346  1.000000   \n",
       "Fare            0.029740  0.134241 -0.315235 -0.092424  0.286433  0.389740   \n",
       "\n",
       "                 Fare  \n",
       "PassengerId  0.029740  \n",
       "Survived     0.134241  \n",
       "Pclass      -0.315235  \n",
       "Age         -0.092424  \n",
       "SibSp        0.286433  \n",
       "Parch        0.389740  \n",
       "Fare         1.000000  "
      ]
     },
     "execution_count": 24,
     "metadata": {},
     "output_type": "execute_result"
    }
   ],
   "source": [
    "# 상관계수 확인\n",
    "train.select_dtypes(exclude=\"object\").corr(\"pearson\")"
   ]
  },
  {
   "cell_type": "code",
   "execution_count": 27,
   "metadata": {},
   "outputs": [
    {
     "data": {
      "text/plain": [
       "<Axes: title={'center': 'Correlation of Features'}>"
      ]
     },
     "execution_count": 27,
     "metadata": {},
     "output_type": "execute_result"
    },
    {
     "data": {
      "image/png": "[encoded data removed]",
      "text/plain": [
       "<Figure size 1000x1000 with 2 Axes>"
      ]
     },
     "metadata": {},
     "output_type": "display_data"
    }
   ],
   "source": [
    "# 히트맵 확인\n",
    "\n",
    "colormap = plt.cm.PuBu\n",
    "upp_mat = np.triu(train.select_dtypes(exclude=\"object\").corr(\"pearson\"))\n",
    "plt.figure(figsize=(10, 10))\n",
    "plt.rcParams['axes.unicode_minus'] = False\n",
    "plt.rc('font', family=\"Malgun Gothic\")\n",
    "plt.title(\"Correlation of Features\", y=1.05, size=15)\n",
    "sns.heatmap(train.select_dtypes(exclude=\"object\").corr(\"pearson\"), linewidths=0.1, vmax=1.0, vmin=-1.0, square=True,\n",
    "                cmap=colormap, linecolor=\"white\", annot=True, mask=upp_mat)\n"
   ]
  },
  {
   "cell_type": "code",
   "execution_count": 29,
   "metadata": {},
   "outputs": [
    {
     "data": {
      "text/html": [
       "<div>\n",
       "<style scoped>\n",
       "    .dataframe tbody tr th:only-of-type {\n",
       "        vertical-align: middle;\n",
       "    }\n",
       "\n",
       "    .dataframe tbody tr th {\n",
       "        vertical-align: top;\n",
       "    }\n",
       "\n",
       "    .dataframe thead th {\n",
       "        text-align: right;\n",
       "    }\n",
       "</style>\n",
       "<table border=\"1\" class=\"dataframe\">\n",
       "  <thead>\n",
       "    <tr style=\"text-align: right;\">\n",
       "      <th></th>\n",
       "      <th>VIF Factor</th>\n",
       "      <th>features</th>\n",
       "    </tr>\n",
       "  </thead>\n",
       "  <tbody>\n",
       "    <tr>\n",
       "      <th>0</th>\n",
       "      <td>4.137338</td>\n",
       "      <td>PassengerId</td>\n",
       "    </tr>\n",
       "    <tr>\n",
       "      <th>1</th>\n",
       "      <td>3.955576</td>\n",
       "      <td>Pclass</td>\n",
       "    </tr>\n",
       "    <tr>\n",
       "      <th>2</th>\n",
       "      <td>3.872496</td>\n",
       "      <td>Age</td>\n",
       "    </tr>\n",
       "    <tr>\n",
       "      <th>3</th>\n",
       "      <td>3.030641</td>\n",
       "      <td>Survived</td>\n",
       "    </tr>\n",
       "    <tr>\n",
       "      <th>4</th>\n",
       "      <td>2.687281</td>\n",
       "      <td>Fare</td>\n",
       "    </tr>\n",
       "    <tr>\n",
       "      <th>5</th>\n",
       "      <td>1.827055</td>\n",
       "      <td>Parch</td>\n",
       "    </tr>\n",
       "    <tr>\n",
       "      <th>6</th>\n",
       "      <td>1.694785</td>\n",
       "      <td>SibSp</td>\n",
       "    </tr>\n",
       "  </tbody>\n",
       "</table>\n",
       "</div>"
      ],
      "text/plain": [
       "   VIF Factor     features\n",
       "0    4.137338  PassengerId\n",
       "1    3.955576       Pclass\n",
       "2    3.872496          Age\n",
       "3    3.030641     Survived\n",
       "4    2.687281         Fare\n",
       "5    1.827055        Parch\n",
       "6    1.694785        SibSp"
      ]
     },
     "execution_count": 29,
     "metadata": {},
     "output_type": "execute_result"
    }
   ],
   "source": [
    "# VIF 다중공선성 확인\n",
    "\n",
    "from statsmodels.stats.outliers_influence import variance_inflation_factor\n",
    "# VIF 출력을 위한 데이터 프레임 형성\n",
    "vif = pd.DataFrame()\n",
    "\n",
    "# VIF 값과 각 Feature 이름에 대해 설정\n",
    "vif[\"VIF Factor\"] = [variance_inflation_factor(train.select_dtypes(exclude=\"object\").values, i) for i in range(train.select_dtypes(exclude=\"object\").shape[1])]\n",
    "vif[\"features\"] = train.select_dtypes(exclude=\"object\").columns \n",
    "\n",
    "# VIF 값이 높은 순으로 정렬\n",
    "vif = vif.sort_values(by=\"VIF Factor\", ascending=False)\n",
    "vif = vif.reset_index().drop(columns='index')\n",
    "vif"
   ]
  },
  {
   "attachments": {},
   "cell_type": "markdown",
   "metadata": {},
   "source": [
    "---\n",
    "## 스케일링\n",
    "\n",
    "- `MinMaxScaler` : 데이터가 0과 1 사이에 위치하도록 스케일링\n",
    "- `MaxAbsScaler` : 데이터가 -1과 1 사이에 위치하도록 스케일링\n",
    "- `StandardScaler` : 데이터의 평균 = 0, 분산 = 1이 되도록 스케일링\n",
    "- `RobustScaler` : 데이터의 중앙값 = 0, IQR = 1이 되도록 스케일\n",
    "\n",
    "    from sklearn.preprocessing import StandardScaler\n",
    "\n",
    "    변형 객체 생성\n",
    "    std_scaler = StandardScaler()\n",
    "\n",
    "    훈련데이터의 모수 분포 저장\n",
    "    std_scaler.fit(X_train)\n",
    "\n",
    "    훈련 데이터 스케일링\n",
    "    X_train_scaled = std_scaler.transform(X_train)\n",
    "\n",
    "    테스트 데이터의 스케일링\n",
    "    X_test_scaled = std_scaler.transform(X_test)\n",
    "\n",
    "     스케일링 된 결과 값을 본래 값으로 되돌리.\n",
    "     X_origin = std_scaler.inverse_transform(X_train_scaled)"
   ]
  },
  {
   "cell_type": "code",
   "execution_count": 37,
   "metadata": {},
   "outputs": [
    {
     "data": {
      "text/html": [
       "<div>\n",
       "<style scoped>\n",
       "    .dataframe tbody tr th:only-of-type {\n",
       "        vertical-align: middle;\n",
       "    }\n",
       "\n",
       "    .dataframe tbody tr th {\n",
       "        vertical-align: top;\n",
       "    }\n",
       "\n",
       "    .dataframe thead th {\n",
       "        text-align: right;\n",
       "    }\n",
       "</style>\n",
       "<table border=\"1\" class=\"dataframe\">\n",
       "  <thead>\n",
       "    <tr style=\"text-align: right;\">\n",
       "      <th></th>\n",
       "      <th>PassengerId</th>\n",
       "      <th>Survived</th>\n",
       "      <th>Pclass</th>\n",
       "      <th>Age</th>\n",
       "      <th>SibSp</th>\n",
       "      <th>Parch</th>\n",
       "      <th>Fare</th>\n",
       "    </tr>\n",
       "  </thead>\n",
       "  <tbody>\n",
       "    <tr>\n",
       "      <th>0</th>\n",
       "      <td>-1.840135</td>\n",
       "      <td>0.698430</td>\n",
       "      <td>-0.372256</td>\n",
       "      <td>0.149065</td>\n",
       "      <td>0.833628</td>\n",
       "      <td>-0.631730</td>\n",
       "      <td>-0.097180</td>\n",
       "    </tr>\n",
       "    <tr>\n",
       "      <th>1</th>\n",
       "      <td>-1.832017</td>\n",
       "      <td>0.698430</td>\n",
       "      <td>-0.372256</td>\n",
       "      <td>-0.043230</td>\n",
       "      <td>0.833628</td>\n",
       "      <td>-0.631730</td>\n",
       "      <td>-0.335997</td>\n",
       "    </tr>\n",
       "    <tr>\n",
       "      <th>2</th>\n",
       "      <td>-1.819841</td>\n",
       "      <td>-1.431782</td>\n",
       "      <td>-0.372256</td>\n",
       "      <td>1.174636</td>\n",
       "      <td>-0.723044</td>\n",
       "      <td>-0.631730</td>\n",
       "      <td>-0.352250</td>\n",
       "    </tr>\n",
       "    <tr>\n",
       "      <th>3</th>\n",
       "      <td>-1.803606</td>\n",
       "      <td>0.698430</td>\n",
       "      <td>3.520480</td>\n",
       "      <td>-2.030273</td>\n",
       "      <td>0.833628</td>\n",
       "      <td>0.697081</td>\n",
       "      <td>-0.814070</td>\n",
       "    </tr>\n",
       "    <tr>\n",
       "      <th>4</th>\n",
       "      <td>-1.799547</td>\n",
       "      <td>0.698430</td>\n",
       "      <td>-0.372256</td>\n",
       "      <td>1.431029</td>\n",
       "      <td>-0.723044</td>\n",
       "      <td>-0.631730</td>\n",
       "      <td>-0.684702</td>\n",
       "    </tr>\n",
       "    <tr>\n",
       "      <th>...</th>\n",
       "      <td>...</td>\n",
       "      <td>...</td>\n",
       "      <td>...</td>\n",
       "      <td>...</td>\n",
       "      <td>...</td>\n",
       "      <td>...</td>\n",
       "      <td>...</td>\n",
       "    </tr>\n",
       "    <tr>\n",
       "      <th>178</th>\n",
       "      <td>1.691045</td>\n",
       "      <td>0.698430</td>\n",
       "      <td>-0.372256</td>\n",
       "      <td>0.725949</td>\n",
       "      <td>0.833628</td>\n",
       "      <td>0.697081</td>\n",
       "      <td>-0.343166</td>\n",
       "    </tr>\n",
       "    <tr>\n",
       "      <th>179</th>\n",
       "      <td>1.695104</td>\n",
       "      <td>-1.431782</td>\n",
       "      <td>-0.372256</td>\n",
       "      <td>-0.171426</td>\n",
       "      <td>-0.723044</td>\n",
       "      <td>-0.631730</td>\n",
       "      <td>-0.967737</td>\n",
       "    </tr>\n",
       "    <tr>\n",
       "      <th>180</th>\n",
       "      <td>1.723516</td>\n",
       "      <td>0.698430</td>\n",
       "      <td>-0.372256</td>\n",
       "      <td>1.302832</td>\n",
       "      <td>-0.723044</td>\n",
       "      <td>0.697081</td>\n",
       "      <td>0.058785</td>\n",
       "    </tr>\n",
       "    <tr>\n",
       "      <th>181</th>\n",
       "      <td>1.755986</td>\n",
       "      <td>0.698430</td>\n",
       "      <td>-0.372256</td>\n",
       "      <td>-1.068801</td>\n",
       "      <td>-0.723044</td>\n",
       "      <td>-0.631730</td>\n",
       "      <td>-0.639390</td>\n",
       "    </tr>\n",
       "    <tr>\n",
       "      <th>182</th>\n",
       "      <td>1.764104</td>\n",
       "      <td>0.698430</td>\n",
       "      <td>-0.372256</td>\n",
       "      <td>-0.620113</td>\n",
       "      <td>-0.723044</td>\n",
       "      <td>-0.631730</td>\n",
       "      <td>-0.639390</td>\n",
       "    </tr>\n",
       "  </tbody>\n",
       "</table>\n",
       "<p>183 rows × 7 columns</p>\n",
       "</div>"
      ],
      "text/plain": [
       "     PassengerId  Survived    Pclass       Age     SibSp     Parch      Fare\n",
       "0      -1.840135  0.698430 -0.372256  0.149065  0.833628 -0.631730 -0.097180\n",
       "1      -1.832017  0.698430 -0.372256 -0.043230  0.833628 -0.631730 -0.335997\n",
       "2      -1.819841 -1.431782 -0.372256  1.174636 -0.723044 -0.631730 -0.352250\n",
       "3      -1.803606  0.698430  3.520480 -2.030273  0.833628  0.697081 -0.814070\n",
       "4      -1.799547  0.698430 -0.372256  1.431029 -0.723044 -0.631730 -0.684702\n",
       "..           ...       ...       ...       ...       ...       ...       ...\n",
       "178     1.691045  0.698430 -0.372256  0.725949  0.833628  0.697081 -0.343166\n",
       "179     1.695104 -1.431782 -0.372256 -0.171426 -0.723044 -0.631730 -0.967737\n",
       "180     1.723516  0.698430 -0.372256  1.302832 -0.723044  0.697081  0.058785\n",
       "181     1.755986  0.698430 -0.372256 -1.068801 -0.723044 -0.631730 -0.639390\n",
       "182     1.764104  0.698430 -0.372256 -0.620113 -0.723044 -0.631730 -0.639390\n",
       "\n",
       "[183 rows x 7 columns]"
      ]
     },
     "execution_count": 37,
     "metadata": {},
     "output_type": "execute_result"
    }
   ],
   "source": []
  },
  {
   "cell_type": "code",
   "execution_count": 43,
   "metadata": {},
   "outputs": [],
   "source": [
    "from sklearn.preprocessing import StandardScaler\n",
    "scale_std = StandardScaler()\n",
    "train_1 = train.copy()\n",
    "\n",
    "train_1_float = train_1.select_dtypes(exclude=\"object\")\n",
    "train_1_float = scale_std.fit_transform(train_1_float)\n",
    "train_1_float = pd.DataFrame(train_1_float, columns=train_1.select_dtypes(exclude=\"object\").columns)\n",
    "train_1_float\n",
    "\n",
    "for i in train_1_float.columns:\n",
    "    train_1[i] = train_1_float[i]\n",
    "    "
   ]
  },
  {
   "cell_type": "code",
   "execution_count": null,
   "metadata": {},
   "outputs": [],
   "source": [
    "from sklearn.preprocessing import MinMaxScaler\n",
    "scale_std = MinMaxScaler()\n",
    "train_1 = train.copy()\n",
    "\n",
    "train_1_float = train_1.select_dtypes(exclude=\"object\")\n",
    "train_1_float = scale_std.fit_transform(train_1_float)\n",
    "train_1_float = pd.DataFrame(train_1_float, columns=train_1.select_dtypes(exclude=\"object\").columns)\n",
    "train_1_float\n",
    "\n",
    "for i in train_1_float.columns:\n",
    "    train_1[i] = train_1_float[i]\n",
    "    "
   ]
  },
  {
   "cell_type": "code",
   "execution_count": 50,
   "metadata": {},
   "outputs": [],
   "source": [
    "train_1 = train.copy()\n",
    "\n",
    "def scaler(df, tool):\n",
    "    if tool == StandardScaler:\n",
    "        scale = StandardScaler()\n",
    "        train_1_float = df\n",
    "        train_1_float = scale_std.fit_transform(train_1_float)\n",
    "        train_1_float = pd.DataFrame(train_1_float, columns=df.columns)\n",
    "        \n",
    "\n",
    "    for i in train_1_float.columns:\n",
    "        train_1[i] = train_1_float[i]\n",
    "    \n",
    "    if tool == min:\n",
    "        scale = MinMaxScaler()\n",
    "        train_1 = train.copy()\n",
    "\n",
    "        train_1_float = df\n",
    "        train_1_float = scale_std.fit_transform(train_1_float)\n",
    "        train_1_float = pd.DataFrame(train_1_float, columns=df.columns)\n",
    "        \n",
    "\n",
    "        for i in train_1_float.columns:\n",
    "            train_1[i] = train_1_float[i]\n",
    "\n",
    "\n"
   ]
  },
  {
   "cell_type": "code",
   "execution_count": 51,
   "metadata": {},
   "outputs": [
    {
     "ename": "UnboundLocalError",
     "evalue": "local variable 'train_1_float' referenced before assignment",
     "output_type": "error",
     "traceback": [
      "\u001b[1;31m---------------------------------------------------------------------------\u001b[0m",
      "\u001b[1;31mUnboundLocalError\u001b[0m                         Traceback (most recent call last)",
      "Cell \u001b[1;32mIn[51], line 1\u001b[0m\n\u001b[1;32m----> 1\u001b[0m scaler(train_1\u001b[39m.\u001b[39;49mselect_dtypes(\u001b[39m\"\u001b[39;49m\u001b[39mfloat\u001b[39;49m\u001b[39m\"\u001b[39;49m), \u001b[39mmin\u001b[39;49m)\n",
      "Cell \u001b[1;32mIn[50], line 11\u001b[0m, in \u001b[0;36mscaler\u001b[1;34m(df, tool)\u001b[0m\n\u001b[0;32m      7\u001b[0m     train_1_float \u001b[39m=\u001b[39m scale_std\u001b[39m.\u001b[39mfit_transform(train_1_float)\n\u001b[0;32m      8\u001b[0m     train_1_float \u001b[39m=\u001b[39m pd\u001b[39m.\u001b[39mDataFrame(train_1_float, columns\u001b[39m=\u001b[39mdf\u001b[39m.\u001b[39mcolumns)\n\u001b[1;32m---> 11\u001b[0m \u001b[39mfor\u001b[39;00m i \u001b[39min\u001b[39;00m train_1_float\u001b[39m.\u001b[39mcolumns:\n\u001b[0;32m     12\u001b[0m     train_1[i] \u001b[39m=\u001b[39m train_1_float[i]\n\u001b[0;32m     14\u001b[0m \u001b[39mif\u001b[39;00m tool \u001b[39m==\u001b[39m \u001b[39mmin\u001b[39m:\n",
      "\u001b[1;31mUnboundLocalError\u001b[0m: local variable 'train_1_float' referenced before assignment"
     ]
    }
   ],
   "source": [
    "scaler(train_1.select_dtypes(\"float\"), min)"
   ]
  }
 ],
 "metadata": {
  "kernelspec": {
   "display_name": "Python 3",
   "language": "python",
   "name": "python3"
  },
  "language_info": {
   "codemirror_mode": {
    "name": "ipython",
    "version": 3
   },
   "file_extension": ".py",
   "mimetype": "text/x-python",
   "name": "python",
   "nbconvert_exporter": "python",
   "pygments_lexer": "ipython3",
   "version": "3.10.9"
  },
  "orig_nbformat": 4
 },
 "nbformat": 4,
 "nbformat_minor": 2
}
