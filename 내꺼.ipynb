{
 "cells": [
  {
   "cell_type": "code",
   "execution_count": null,
   "metadata": {},
   "outputs": [],
   "source": [
    "df.drop(columns=[\"자본분배율(IFRS)\",\"이윤분배율(IFRS)\" ,\"정상영업이익대비이자보상배율(IFRS)\" ], axis=1 , inplace=True)\n",
    "df.dropna(axis=0, inplace=True)\n",
    "df.reset_index(drop=True, inplace=True)\n",
    "print(df.isna().sum().sum())"
   ]
  },
  {
   "cell_type": "code",
   "execution_count": null,
   "metadata": {},
   "outputs": [],
   "source": [
    "df_float = df.select_dtypes(exclude=\"object\")\n",
    "df_float = df[['거래소코드', '총자본증가율(IFRS)', '유형자산증가율(IFRS)', '비유동생물자산증가율(IFRS)',\n",
    "       '투자부동산증가율(IFRS)', '비유동자산증가율(IFRS)', '유동자산증가율(IFRS)', '재고자산증가율(IFRS)',\n",
    "       '자기자본증가율(IFRS)', '매출액증가율(IFRS)']]\n",
    "\n",
    "plt.figure(figsize=(10,10))\n",
    "for i, column in enumerate(df_float.columns):\n",
    "    plt.subplot(5,2,i+1)\n",
    "    plt.title(column)\n",
    "    plt.boxplot(df_float[column])\n",
    "plt.show()"
   ]
  },
  {
   "cell_type": "code",
   "execution_count": null,
   "metadata": {},
   "outputs": [],
   "source": [
    "from scipy.stats.mstats import winsorize\n",
    "\n",
    "for i in df_float.columns:\n",
    "    df_float[i] =  winsorize(df_float[i], limits=[0.05, 0.05])\n",
    "\n",
    "for k in df_float.columns:\n",
    "    df[i] = df_float[i]"
   ]
  },
  {
   "cell_type": "code",
   "execution_count": null,
   "metadata": {},
   "outputs": [],
   "source": [
    "colormap = plt.cm.PuBu\n",
    "upp_mat = np.triu(df.select_dtypes(\"float\").corr(\"pearson\")) #  히트맵의 상삼각 행렬을 만들고, 이를 mask 매개변수로 전달하여 상삼각 행렬 부분을 숨김\n",
    "plt.figure(figsize=(20, 20))\n",
    "plt.rcParams['axes.unicode_minus'] = False # matplotlib에서 마이너스 기호 (-)를 제대로 표시하기 위한 설정\n",
    "plt.rc('font', family=\"Malgun Gothic\")\n",
    "plt.title(\"Correlation of Features\", y=1.05, size=15)\n",
    "sns.heatmap(df.select_dtypes(\"float\").corr(\"spearman\"), linewidths=0.1, vmax=1.0, vmin=-1.0, square=True,\n",
    "            cmap=colormap, linecolor=\"white\", annot=True, mask=upp_mat)\n",
    "plt.show()\n"
   ]
  },
  {
   "cell_type": "code",
   "execution_count": null,
   "metadata": {},
   "outputs": [],
   "source": [
    "vif = pd.DataFrame()\n",
    "vif[\"VIF Factor\"] = [variance_inflation_factor(df.values, i) for i in range(df.shape[1])]\n",
    "vif[\"features\"] = df.columns \n"
   ]
  },
  {
   "cell_type": "code",
   "execution_count": null,
   "metadata": {},
   "outputs": [],
   "source": [
    "# 20230613\n",
    "\n",
    "for i in range(int(input())):\n",
    "    b, c = map(int,input().split())\n",
    "    print(b+c)\n",
    "\n",
    "\n",
    "\n",
    "for i in range(int(input())//4):\n",
    "    i = \"long\"\n",
    "    print(i, end=\" \")\n",
    "    \n",
    "print(\"int\")\n",
    "\n"
   ]
  }
 ],
 "metadata": {
  "language_info": {
   "name": "python"
  },
  "orig_nbformat": 4
 },
 "nbformat": 4,
 "nbformat_minor": 2
}
